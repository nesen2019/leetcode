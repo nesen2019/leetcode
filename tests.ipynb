{
 "cells": [
  {
   "cell_type": "code",
   "execution_count": 7,
   "metadata": {},
   "outputs": [
    {
     "name": "stdout",
     "output_type": "stream",
     "text": [
      "LICENSE\n",
      "README.md\n",
      "__pycache__\n",
      "a.sh\n",
      "lecode100\n",
      "struc\n",
      "tests.ipynb\n",
      "tests.py\n",
      "untitled.ipynb\n",
      "untitled.md\n",
      "utils\n"
     ]
    }
   ],
   "source": [
    "!ls\n"
   ]
  },
  {
   "cell_type": "code",
   "execution_count": 8,
   "metadata": {},
   "outputs": [
    {
     "name": "stderr",
     "output_type": "stream",
     "text": [
      "..\n",
      "----------------------------------------------------------------------\n",
      "Ran 2 tests in 0.004s\n",
      "\n",
      "OK\n"
     ]
    }
   ],
   "source": [
    "!python tests.py"
   ]
  },
  {
   "cell_type": "code",
   "execution_count": null,
   "metadata": {},
   "outputs": [],
   "source": []
  },
  {
   "cell_type": "markdown",
   "metadata": {},
   "source": [
    "### test one file"
   ]
  },
  {
   "cell_type": "code",
   "execution_count": 9,
   "metadata": {},
   "outputs": [
    {
     "data": {
      "text/plain": [
       "(True, 'I0000.py')"
      ]
     },
     "execution_count": 9,
     "metadata": {},
     "output_type": "execute_result"
    }
   ],
   "source": [
    "from tests import Test\n",
    "test = Test() \n",
    "filename = r\"D:\\Prog\\leetcode\\lecode100\\I0000.py\"\n",
    "test.mytest_module(filename)"
   ]
  },
  {
   "cell_type": "code",
   "execution_count": 10,
   "metadata": {},
   "outputs": [
    {
     "data": {
      "text/plain": [
       "(True, 'I0000_t01.py')"
      ]
     },
     "execution_count": 10,
     "metadata": {},
     "output_type": "execute_result"
    }
   ],
   "source": [
    "from tests import Test\n",
    "test = Test() \n",
    "filename = r\"D:\\Prog\\leetcode\\lecode100\\I0000_t01.py\"\n",
    "test.mytest_module(filename)"
   ]
  },
  {
   "cell_type": "code",
   "execution_count": null,
   "metadata": {},
   "outputs": [],
   "source": []
  },
  {
   "cell_type": "markdown",
   "metadata": {},
   "source": [
    "### test all file "
   ]
  },
  {
   "cell_type": "code",
   "execution_count": 11,
   "metadata": {},
   "outputs": [],
   "source": [
    "import os \n",
    "from tests import Test\n",
    "test = Test()"
   ]
  },
  {
   "cell_type": "code",
   "execution_count": 12,
   "metadata": {},
   "outputs": [
    {
     "name": "stdout",
     "output_type": "stream",
     "text": [
      "(True, 'I0000.py')\n",
      "(True, 'I0000_t01.py')\n",
      "(True, 'I0001.py')\n",
      "(True, 'I0001_L0001.py')\n",
      "(True, 'I0001_L0001_t01.py')\n"
     ]
    }
   ],
   "source": [
    "dir_name = r\"D:\\Prog\\leetcode\\lecode100\"\n",
    "path_list = os.listdir(dir_name) \n",
    "for p in path_list:\n",
    "    if p.startswith(\"__\"):\n",
    "        continue\n",
    "    filename = os.path.join(dir_name, p)\n",
    "    if not os.path.isfile(filename):\n",
    "        continue\n",
    "    print(test.mytest_module(filename))"
   ]
  },
  {
   "cell_type": "code",
   "execution_count": null,
   "metadata": {},
   "outputs": [],
   "source": []
  }
 ],
 "metadata": {
  "kernelspec": {
   "display_name": "Python 3",
   "language": "python",
   "name": "python3"
  },
  "language_info": {
   "codemirror_mode": {
    "name": "ipython",
    "version": 3
   },
   "file_extension": ".py",
   "mimetype": "text/x-python",
   "name": "python",
   "nbconvert_exporter": "python",
   "pygments_lexer": "ipython3",
   "version": "3.8.5"
  }
 },
 "nbformat": 4,
 "nbformat_minor": 4
}
